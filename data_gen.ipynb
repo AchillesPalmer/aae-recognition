{
  "nbformat": 4,
  "nbformat_minor": 0,
  "metadata": {
    "colab": {
      "provenance": []
    },
    "kernelspec": {
      "name": "python3",
      "display_name": "Python 3"
    },
    "language_info": {
      "name": "python"
    }
  },
  "cells": [
    {
      "cell_type": "markdown",
      "source": [
        "In this file we generate sentence pairs for our AAVE/SAE experiment"
      ],
      "metadata": {
        "id": "o_Q5xIoou76b"
      }
    },
    {
      "cell_type": "code",
      "source": [
        "import itertools\n",
        "import re\n",
        "import csv\n"
      ],
      "metadata": {
        "id": "BBOqvSRXCTJO"
      },
      "execution_count": 1,
      "outputs": []
    },
    {
      "cell_type": "code",
      "source": [
        "sents_sae = []\n",
        "sents_aae = []\n",
        "target = []\n",
        "tags = []\n",
        "\n",
        "TAG_NUL = []\n",
        "TAG_HAB = []\n",
        "TAG_NEG = []\n",
        "TAG_AIN = []\n",
        "PRED_NUL = []\n",
        "PRED_HAB = []\n",
        "PRED_NEG = []\n",
        "PRED_AIN = []\n",
        "\n",
        "preds = []\n"
      ],
      "metadata": {
        "id": "7YKvg3AXvXn5"
      },
      "execution_count": 2,
      "outputs": []
    },
    {
      "cell_type": "code",
      "source": [
        "# TAG:HAB; PRED:NUL\n",
        "sent1_AAE = \"She be walking to work, but today she driving\"\n",
        "sent1_SAE = \"She usually walks to work, but today she driving\"\n"
      ],
      "metadata": {
        "id": "nKuSJ2xfxjBG"
      },
      "execution_count": 3,
      "outputs": []
    },
    {
      "cell_type": "markdown",
      "source": [],
      "metadata": {
        "id": "gSKqoq7pyWrW"
      }
    },
    {
      "cell_type": "code",
      "source": [
        "dets = [\"The\"]\n",
        "\n",
        "gs_subjects =  [\"teacher\",\n",
        "                \"worker\",\n",
        "                \"musician\",\n",
        "                \"librarian\",\n",
        "                \"runner\",\n",
        "                \"painter\",\n",
        "                \"chef\",\n",
        "                \"dogwalker\",\n",
        "                \"doctor\",\n",
        "                \"linguist\",\n",
        "                \"firefighter\",\n",
        "                \"florist\",\n",
        "                \"parent\"]\n",
        "\n",
        "mod_phrases = [\"\",\n",
        "               \"with a hat\",\n",
        "               \"from the city\",\n",
        "               \"on the phone\",\n",
        "               \"with the blue umbrella\"]\n",
        "\n",
        "aae_mvmt_verbs =   [\"be walking\",\n",
        "                    \"be running\",\n",
        "                    \"be rushing\"\n",
        "                    ]\n",
        "\n",
        "sae_mvmt_verbs = [\"usually walks\",\n",
        "                  \"usually runs\",\n",
        "                  \"usually rushes\"]\n",
        "\n",
        "locations = [\"to work\",\n",
        "             \"home\"]\n",
        "\n",
        "punc = [\",\"]\n",
        "\n",
        "subsequent = ['but']\n",
        "\n",
        "adverbs = ['today']\n",
        "\n",
        "prns = ['she', 'they', 'he']\n",
        "\n",
        "\n",
        "aae_template = [dets, gs_subjects, mod_phrases, aae_mvmt_verbs, locations, punc, subsequent, adverbs, prns]\n",
        "sae_template = [dets, gs_subjects, mod_phrases, sae_mvmt_verbs, locations, punc, subsequent, adverbs, prns]\n"
      ],
      "metadata": {
        "id": "CM4T6vWIxzNj"
      },
      "execution_count": 4,
      "outputs": []
    },
    {
      "cell_type": "code",
      "source": [
        "new_aae = list(map(' '.join, itertools.product(*aae_template)))\n",
        "sents_aae += list(map(lambda x: re.sub(r'\\s+', ' ', x), new_aae))\n",
        "\n",
        "new_sae = list(map(' '.join, itertools.product(*sae_template)))\n",
        "sents_sae += list(map(lambda x: re.sub(r'\\s+', ' ', x), new_sae))\n",
        "\n",
        "my_length = len(list(new_aae))\n",
        "\n",
        "target += my_length * ['driving']\n",
        "\n",
        "TAG_NUL += my_length * [0]\n",
        "TAG_NEG += my_length * [0]\n",
        "TAG_AIN += my_length * [0]\n",
        "TAG_HAB += my_length * [1]\n",
        "PRED_NUL += my_length * [1]\n",
        "PRED_NEG += my_length * [0]\n",
        "PRED_AIN += my_length * [0]\n",
        "PRED_HAB += my_length * [0]\n",
        "\n",
        "print(my_length)\n",
        "print(len(new_sae))\n"
      ],
      "metadata": {
        "colab": {
          "base_uri": "https://localhost:8080/"
        },
        "id": "eCr5EkrW3HbB",
        "outputId": "b8aa0f5d-65d1-4da7-bee9-ccfd100e43e0",
        "collapsed": true
      },
      "execution_count": 5,
      "outputs": [
        {
          "output_type": "stream",
          "name": "stdout",
          "text": [
            "1170\n",
            "1170\n"
          ]
        }
      ]
    },
    {
      "cell_type": "code",
      "source": [
        "# TAG:NUL; PRED:NUL\n",
        "sent2_AAE = \"They going to New York this weekend, so they packing\"\n",
        "sent2_SAE = \"They are going to New York this weekend, so they packing\"\n"
      ],
      "metadata": {
        "id": "j5OSnPcF3MoQ"
      },
      "execution_count": 6,
      "outputs": []
    },
    {
      "cell_type": "code",
      "source": [
        "prep = [\"to\"]\n",
        "\n",
        "vacay_locs = [\"New York\",\n",
        "              \"Hawaii\",\n",
        "              \"the Bahamas\",\n",
        "              \"the lakehouse\",\n",
        "              \"the beach\"]\n",
        "\n",
        "timeframe = [\"\"\n",
        "             \"this weekend\",\n",
        "             \"next weekend\",\n",
        "             \"tomorrow\"]\n",
        "\n",
        "punc = [\",\"]\n",
        "\n",
        "aae_travel_verb = [\"going\",\n",
        "                   \"travelling\"]\n",
        "\n",
        "\n",
        "sae_travel_verb = [\"is going\",\n",
        "                   \"is travelling\"]\n",
        "\n",
        "subsequent = [\"so\"]\n",
        "\n",
        "\n",
        "aae_template = [dets, gs_subjects, aae_travel_verb, prep, vacay_locs, timeframe, punc, subsequent, prns]\n",
        "sae_template = [dets, gs_subjects, sae_travel_verb, prep, vacay_locs, timeframe, punc, subsequent, prns]\n"
      ],
      "metadata": {
        "id": "sAsruIpz4G--"
      },
      "execution_count": 7,
      "outputs": []
    },
    {
      "cell_type": "code",
      "source": [
        "new_aae = list(map(' '.join, itertools.product(*aae_template)))\n",
        "sents_aae += list(map(lambda x: re.sub(r'\\s+', ' ', x), new_aae))\n",
        "\n",
        "new_sae = list(map(' '.join, itertools.product(*sae_template)))\n",
        "sents_sae += list(map(lambda x: re.sub(r'\\s+', ' ', x), new_sae))\n",
        "\n",
        "my_length = len(list(new_aae))\n",
        "\n",
        "target += my_length * ['packing']\n",
        "\n",
        "\n",
        "TAG_NUL += my_length * [1]\n",
        "TAG_NEG += my_length * [0]\n",
        "TAG_AIN += my_length * [0]\n",
        "TAG_HAB += my_length * [0]\n",
        "PRED_NUL += my_length * [1]\n",
        "PRED_NEG += my_length * [0]\n",
        "PRED_AIN += my_length * [0]\n",
        "PRED_HAB += my_length * [0]\n",
        "\n",
        "print(my_length)\n",
        "print(len(new_sae))\n"
      ],
      "metadata": {
        "colab": {
          "base_uri": "https://localhost:8080/"
        },
        "id": "RXBmcGztvdcf",
        "outputId": "2d4cdf4d-5f3c-460e-d41f-cc1f0a5624ce"
      },
      "execution_count": 8,
      "outputs": [
        {
          "output_type": "stream",
          "name": "stdout",
          "text": [
            "1170\n",
            "1170\n"
          ]
        }
      ]
    },
    {
      "cell_type": "code",
      "source": [
        "# TAG:NEG; PRED:AIN\n",
        "sent3_AAE = \"I don’t know nothing about that, I ain’t\"\n",
        "sent3_SAE = \"I don't know anything about that, I ain't\"\n"
      ],
      "metadata": {
        "id": "UeOHYWAeF5Yo"
      },
      "execution_count": 9,
      "outputs": []
    },
    {
      "cell_type": "code",
      "source": [
        "first_p_s = [\"I\"]\n",
        "\n",
        "intensive = [\"\",\n",
        "             \"just\"]\n",
        "\n",
        "neg = [\"don't\"]\n",
        "\n",
        "aae_cont = [\"know nothing about\",\n",
        "            \"want nothing to do with\",\n",
        "            \"see nothing interesting about\",\n",
        "            \"hope to learn nothing about\"]\n",
        "sae_cont = [\"know nothing about\",\n",
        "            \"want anything to do with\",\n",
        "            \"see anthing interesting about\",\n",
        "            \"hope to learn anything about\"]\n",
        "\n",
        "topic = [\"baking\",\n",
        "         \"politics\",\n",
        "         \"art\",\n",
        "         \"entertainment\",\n",
        "         \"sports\",\n",
        "         \"computers\",\n",
        "         \"design\",\n",
        "         \"finance\",\n",
        "         \"philosophy\",\n",
        "         \"fashion\",\n",
        "         \"movies\",\n",
        "         \"the news\"]\n",
        "\n",
        "punc = [\",\"]\n",
        "\n",
        "temp = [\"\",\n",
        "        \"these days\",\n",
        "        \"in this city\",\n",
        "        \"really\",\n",
        "        \"in this economy\",\n",
        "        \"in fact\"]\n",
        "\n",
        "aae_template = [first_p_s, intensive, neg, aae_cont, topic, punc, temp, first_p_s]\n",
        "sae_template = [first_p_s, intensive, neg, sae_cont, topic, punc, temp, first_p_s]\n"
      ],
      "metadata": {
        "id": "VKC2teAk2Ekh"
      },
      "execution_count": 10,
      "outputs": []
    },
    {
      "cell_type": "code",
      "source": [
        "new_aae = list(map(' '.join, itertools.product(*aae_template)))\n",
        "sents_aae += list(map(lambda x: re.sub(r'\\s+', ' ', x), new_aae))\n",
        "\n",
        "new_sae = list(map(' '.join, itertools.product(*sae_template)))\n",
        "sents_sae += list(map(lambda x: re.sub(r'\\s+', ' ', x), new_sae))\n",
        "\n",
        "my_length = len(list(new_aae))\n",
        "\n",
        "target += my_length * [\"ain't\"]\n",
        "\n",
        "TAG_NUL += my_length * [0]\n",
        "TAG_NEG += my_length * [1]\n",
        "TAG_AIN += my_length * [0]\n",
        "TAG_HAB += my_length * [0]\n",
        "PRED_NUL += my_length * [0]\n",
        "PRED_NEG += my_length * [0]\n",
        "PRED_AIN += my_length * [1]\n",
        "PRED_HAB += my_length * [0]\n",
        "\n",
        "print(my_length)\n",
        "print(len(new_sae))\n"
      ],
      "metadata": {
        "colab": {
          "base_uri": "https://localhost:8080/"
        },
        "id": "UsHaKC342LTB",
        "outputId": "e902778d-9ce5-4a83-c137-a1c978191f3e"
      },
      "execution_count": 11,
      "outputs": [
        {
          "output_type": "stream",
          "name": "stdout",
          "text": [
            "576\n",
            "576\n"
          ]
        }
      ]
    },
    {
      "cell_type": "code",
      "source": [
        "first_p_s = [\"We\"]\n",
        "\n",
        "intensive = [\"\",\n",
        "             \"just\"]\n",
        "\n",
        "neg = [\"don't\"]\n",
        "\n",
        "aae_cont = [\"know nothing about\",\n",
        "            \"want nothing to do with\",\n",
        "            \"see nothing interesting about\",\n",
        "            \"hope to learn nothing about\"]\n",
        "sae_cont = [\"earn nothing \",\n",
        "            \"want anything to do with\",\n",
        "            \"see anthing interesting about\",\n",
        "            \"hope to learn anything about\"]\n",
        "\n",
        "topic = [\"baking\",\n",
        "         \"politics\",\n",
        "         \"art\",\n",
        "         \"entertainment\",\n",
        "         \"sports\",\n",
        "         \"computers\",\n",
        "         \"design\",\n",
        "         \"finance\",\n",
        "         \"philosophy\",\n",
        "         \"fashion\",\n",
        "         \"movies\",\n",
        "         \"the news\"]\n",
        "\n",
        "punc = [\",\"]\n",
        "\n",
        "first_p_s2 = [\"we\"]\n",
        "\n",
        "temp = [\"\",\n",
        "        \"these days\",\n",
        "        \"in this city\",\n",
        "        \"really\",\n",
        "        \"in this economy\",\n",
        "        \"in fact\"]\n",
        "\n",
        "\n",
        "aae_template = [first_p_s, intensive, neg, aae_cont, topic, punc, temp, first_p_s2]\n",
        "sae_template = [first_p_s, intensive, neg, sae_cont, topic, punc, temp, first_p_s2]\n"
      ],
      "metadata": {
        "id": "gIBIOgQefniT"
      },
      "execution_count": 12,
      "outputs": []
    },
    {
      "cell_type": "code",
      "source": [
        "new_aae = list(map(' '.join, itertools.product(*aae_template)))\n",
        "sents_aae += list(map(lambda x: re.sub(r'\\s+', ' ', x), new_aae))\n",
        "\n",
        "new_sae = list(map(' '.join, itertools.product(*sae_template)))\n",
        "sents_sae += list(map(lambda x: re.sub(r'\\s+', ' ', x), new_sae))\n",
        "\n",
        "my_length = len(list(new_aae))\n",
        "\n",
        "target += my_length * [\"ain't\"]\n",
        "\n",
        "TAG_NUL += my_length * [0]\n",
        "TAG_NEG += my_length * [1]\n",
        "TAG_AIN += my_length * [0]\n",
        "TAG_HAB += my_length * [0]\n",
        "PRED_NUL += my_length * [1]\n",
        "PRED_NEG += my_length * [0]\n",
        "PRED_AIN += my_length * [1]\n",
        "PRED_HAB += my_length * [0]\n",
        "\n",
        "print(my_length)\n",
        "print(len(new_sae))\n"
      ],
      "metadata": {
        "colab": {
          "base_uri": "https://localhost:8080/"
        },
        "id": "hWJfKWPcf2Df",
        "outputId": "a5c6e4ab-a972-4497-ef78-96acadf2f2af"
      },
      "execution_count": 13,
      "outputs": [
        {
          "output_type": "stream",
          "name": "stdout",
          "text": [
            "576\n",
            "576\n"
          ]
        }
      ]
    },
    {
      "cell_type": "code",
      "source": [
        "# TAG:NEG,AIN; PRED:HAB\n",
        "sent4_AAE = \"We ain't talking to no one, but she be\"\n",
        "sent4_SAE = \"We aren't talking to anyone, but she be\"\n"
      ],
      "metadata": {
        "id": "fdxW_iigF5IY"
      },
      "execution_count": 14,
      "outputs": []
    },
    {
      "cell_type": "code",
      "source": [
        "subject = [\"We\", \"I\"]\n",
        "\n",
        "intensive = [\"really\", \"just\"]\n",
        "\n",
        "aae_cont = [\"ain't talking to no one\",\n",
        "            \"ain't chatting with no one\",\n",
        "            \"ain't speaking with no one\",\n",
        "            \"ain't telling no one\"]\n",
        "sae_cont = [\"aren't talking to no one\",\n",
        "            \"aren't chatting with no one\",\n",
        "            \"aren't speaking with no one\",\n",
        "            \"aren't telling no one\"]\n",
        "\n",
        "seq = [\", but\"]\n",
        "\n",
        "intns = [\"\",\n",
        "          \"in fact\",\n",
        "          \"surely\",\n",
        "          \"hopefully\"]\n",
        "\n",
        "temp = [\"\",\n",
        "        \"today\",\n",
        "        \"now\"]\n",
        "\n",
        "second = [\"she\",\n",
        "          \"he\",\n",
        "          \"they\",\n",
        "          \"the minister\",\n",
        "          \"the speaker\",\n",
        "          \"mother\"]\n",
        "\n",
        "\n",
        "aae_template = [subject, intensive, aae_cont, seq, intns, temp, second]\n",
        "sae_template = [subject, intensive, sae_cont, seq, intns, temp, second]\n"
      ],
      "metadata": {
        "id": "d3jqZ0or2eTZ"
      },
      "execution_count": 15,
      "outputs": []
    },
    {
      "cell_type": "code",
      "source": [
        "new_aae = list(map(' '.join, itertools.product(*aae_template)))\n",
        "sents_aae += list(map(lambda x: re.sub(r'\\s+', ' ', x), new_aae))\n",
        "\n",
        "new_sae = list(map(' '.join, itertools.product(*sae_template)))\n",
        "sents_sae += list(map(lambda x: re.sub(r'\\s+', ' ', x), new_sae))\n",
        "\n",
        "my_length = len(list(new_aae))\n",
        "\n",
        "target += my_length * [\"be\"]\n",
        "\n",
        "\n",
        "TAG_NUL += my_length * [0]\n",
        "TAG_NEG += my_length * [1]\n",
        "TAG_AIN += my_length * [1]\n",
        "TAG_HAB += my_length * [0]\n",
        "PRED_NUL += my_length * [0]\n",
        "PRED_NEG += my_length * [0]\n",
        "PRED_AIN += my_length * [0]\n",
        "PRED_HAB += my_length * [1]\n",
        "\n",
        "print(my_length)\n",
        "print(len(new_sae))\n"
      ],
      "metadata": {
        "colab": {
          "base_uri": "https://localhost:8080/"
        },
        "id": "O_wueM412L-t",
        "outputId": "b41b4f71-d08f-47fe-9804-7e19400ff6fc"
      },
      "execution_count": 16,
      "outputs": [
        {
          "output_type": "stream",
          "name": "stdout",
          "text": [
            "1152\n",
            "1152\n"
          ]
        }
      ]
    },
    {
      "cell_type": "code",
      "source": [
        "# TAG:NUL,NEG; PRED:NUL\n",
        "sent6_AAE = \"She not going nowhere, she staying\"\n",
        "sent6_SAE = \"She is not going anywhere, she is staying\"\n"
      ],
      "metadata": {
        "id": "Lzw55VgAG1zw"
      },
      "execution_count": 17,
      "outputs": []
    },
    {
      "cell_type": "code",
      "source": [
        "departure_verbs = [\"going\",\n",
        "                   \"heading\",\n",
        "                   \"leaving\",\n",
        "                   \"driving\",\n",
        "                   \"departing\",\n",
        "                   \"fleeing\"]\n",
        "notlst = [\"not\"]\n",
        "islst = [\"is\"]\n",
        "no_aae = [\"nowhere\"]\n",
        "any_sae = [\"anywhere\"]\n",
        "\n",
        "punc = [\",\"]\n",
        "\n",
        "\n",
        "aae_template = [dets, gs_subjects, mod_phrases, islst, notlst, departure_verbs, no_aae, punc, prns]\n",
        "sae_template = [dets, gs_subjects, mod_phrases, islst, notlst, departure_verbs, any_sae, punc, prns]\n"
      ],
      "metadata": {
        "id": "r4_81vf00ISp"
      },
      "execution_count": 18,
      "outputs": []
    },
    {
      "cell_type": "code",
      "source": [
        "new_aae = list(map(' '.join, itertools.product(*aae_template)))\n",
        "sents_aae += list(map(lambda x: re.sub(r'\\s+', ' ', x), new_aae))\n",
        "\n",
        "new_sae = list(map(' '.join, itertools.product(*sae_template)))\n",
        "sents_sae += list(map(lambda x: re.sub(r'\\s+', ' ', x), new_sae))\n",
        "\n",
        "my_length = len(list(new_aae))\n",
        "\n",
        "target += my_length * [\"staying\"]\n",
        "\n",
        "\n",
        "TAG_NUL += my_length * [1]\n",
        "TAG_NEG += my_length * [1]\n",
        "TAG_AIN += my_length * [0]\n",
        "TAG_HAB += my_length * [0]\n",
        "PRED_NUL += my_length * [1]\n",
        "PRED_NEG += my_length * [0]\n",
        "PRED_AIN += my_length * [0]\n",
        "PRED_HAB += my_length * [0]\n",
        "\n",
        "print(my_length)\n",
        "print(len(new_sae))\n"
      ],
      "metadata": {
        "colab": {
          "base_uri": "https://localhost:8080/"
        },
        "id": "l2W968272P4t",
        "outputId": "aa36ae52-78a3-4929-ea2b-f678f3bde62e"
      },
      "execution_count": 19,
      "outputs": [
        {
          "output_type": "stream",
          "name": "stdout",
          "text": [
            "1170\n",
            "1170\n"
          ]
        }
      ]
    },
    {
      "cell_type": "code",
      "source": [
        "pairs = list(zip(sents_sae, sents_aae, target, TAG_NUL, TAG_NEG, TAG_AIN, TAG_HAB, PRED_NUL, PRED_NEG, PRED_AIN, PRED_HAB))\n",
        "print(len(pairs))\n"
      ],
      "metadata": {
        "colab": {
          "base_uri": "https://localhost:8080/"
        },
        "id": "wEZsD9NSxxbA",
        "outputId": "ef072f3f-70de-43b4-b046-0d92f7346c3d"
      },
      "execution_count": 20,
      "outputs": [
        {
          "output_type": "stream",
          "name": "stdout",
          "text": [
            "5814\n"
          ]
        }
      ]
    },
    {
      "cell_type": "code",
      "source": [
        "with open(\"data.csv\", mode='w', newline='', encoding='utf-8') as file:\n",
        "    writer = csv.writer(file, delimiter=';')\n",
        "    writer.writerow([\"aae\", \"sae\", \"pred\", \"TAG_NUL\", \"TAG_NEG\", \"TAG_AIN\", \"TAG_HAB\", \"PRED_NUL\", \"PRED_NEG\", \"PRED_AIN\", \"PRED_HAB\"])\n",
        "\n",
        "    for item in pairs:\n",
        "        writer.writerow(list(map(lambda x: str(x), [item[0], item[1], item[2], item[3], item[4], item[5], item[6], item[7], item[8], item[9], item[10]])))\n"
      ],
      "metadata": {
        "id": "7ldtG2L2b9nB"
      },
      "execution_count": 21,
      "outputs": []
    }
  ]
}